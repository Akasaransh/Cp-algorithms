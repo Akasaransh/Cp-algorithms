{
 "cells": [
  {
   "cell_type": "markdown",
   "metadata": {},
   "source": [
    "1.Import necessary packages"
   ]
  },
  {
   "cell_type": "code",
   "execution_count": 1,
   "metadata": {},
   "outputs": [],
   "source": [
    "import pandas as pd\n",
    "import numpy as np\n",
    "import seaborn as sns\n",
    "import os"
   ]
  },
  {
   "cell_type": "markdown",
   "metadata": {},
   "source": [
    "2.Load the file"
   ]
  },
  {
   "cell_type": "code",
   "execution_count": 2,
   "metadata": {},
   "outputs": [],
   "source": [
    "inc_exp = pd.read_csv(\"Inc_Exp_Data.csv\")"
   ]
  },
  {
   "cell_type": "markdown",
   "metadata": {},
   "source": [
    "3.Analyze the data"
   ]
  },
  {
   "cell_type": "code",
   "execution_count": 3,
   "metadata": {},
   "outputs": [
    {
     "data": {
      "text/html": [
       "<div>\n",
       "<style scoped>\n",
       "    .dataframe tbody tr th:only-of-type {\n",
       "        vertical-align: middle;\n",
       "    }\n",
       "\n",
       "    .dataframe tbody tr th {\n",
       "        vertical-align: top;\n",
       "    }\n",
       "\n",
       "    .dataframe thead th {\n",
       "        text-align: right;\n",
       "    }\n",
       "</style>\n",
       "<table border=\"1\" class=\"dataframe\">\n",
       "  <thead>\n",
       "    <tr style=\"text-align: right;\">\n",
       "      <th></th>\n",
       "      <th>Mthly_HH_Income</th>\n",
       "      <th>Mthly_HH_Expense</th>\n",
       "      <th>No_of_Fly_Members</th>\n",
       "      <th>Emi_or_Rent_Amt</th>\n",
       "      <th>Annual_HH_Income</th>\n",
       "      <th>Highest_Qualified_Member</th>\n",
       "      <th>No_of_Earning_Members</th>\n",
       "    </tr>\n",
       "  </thead>\n",
       "  <tbody>\n",
       "    <tr>\n",
       "      <th>0</th>\n",
       "      <td>5000</td>\n",
       "      <td>8000</td>\n",
       "      <td>3</td>\n",
       "      <td>2000</td>\n",
       "      <td>64200</td>\n",
       "      <td>Under-Graduate</td>\n",
       "      <td>1</td>\n",
       "    </tr>\n",
       "    <tr>\n",
       "      <th>1</th>\n",
       "      <td>6000</td>\n",
       "      <td>7000</td>\n",
       "      <td>2</td>\n",
       "      <td>3000</td>\n",
       "      <td>79920</td>\n",
       "      <td>Illiterate</td>\n",
       "      <td>1</td>\n",
       "    </tr>\n",
       "    <tr>\n",
       "      <th>2</th>\n",
       "      <td>10000</td>\n",
       "      <td>4500</td>\n",
       "      <td>2</td>\n",
       "      <td>0</td>\n",
       "      <td>112800</td>\n",
       "      <td>Under-Graduate</td>\n",
       "      <td>1</td>\n",
       "    </tr>\n",
       "    <tr>\n",
       "      <th>3</th>\n",
       "      <td>10000</td>\n",
       "      <td>2000</td>\n",
       "      <td>1</td>\n",
       "      <td>0</td>\n",
       "      <td>97200</td>\n",
       "      <td>Illiterate</td>\n",
       "      <td>1</td>\n",
       "    </tr>\n",
       "    <tr>\n",
       "      <th>4</th>\n",
       "      <td>12500</td>\n",
       "      <td>12000</td>\n",
       "      <td>2</td>\n",
       "      <td>3000</td>\n",
       "      <td>147000</td>\n",
       "      <td>Graduate</td>\n",
       "      <td>1</td>\n",
       "    </tr>\n",
       "    <tr>\n",
       "      <th>5</th>\n",
       "      <td>14000</td>\n",
       "      <td>8000</td>\n",
       "      <td>2</td>\n",
       "      <td>0</td>\n",
       "      <td>196560</td>\n",
       "      <td>Graduate</td>\n",
       "      <td>1</td>\n",
       "    </tr>\n",
       "    <tr>\n",
       "      <th>6</th>\n",
       "      <td>15000</td>\n",
       "      <td>16000</td>\n",
       "      <td>3</td>\n",
       "      <td>35000</td>\n",
       "      <td>167400</td>\n",
       "      <td>Post-Graduate</td>\n",
       "      <td>1</td>\n",
       "    </tr>\n",
       "    <tr>\n",
       "      <th>7</th>\n",
       "      <td>18000</td>\n",
       "      <td>20000</td>\n",
       "      <td>5</td>\n",
       "      <td>8000</td>\n",
       "      <td>216000</td>\n",
       "      <td>Graduate</td>\n",
       "      <td>1</td>\n",
       "    </tr>\n",
       "    <tr>\n",
       "      <th>8</th>\n",
       "      <td>19000</td>\n",
       "      <td>9000</td>\n",
       "      <td>2</td>\n",
       "      <td>0</td>\n",
       "      <td>218880</td>\n",
       "      <td>Under-Graduate</td>\n",
       "      <td>1</td>\n",
       "    </tr>\n",
       "    <tr>\n",
       "      <th>9</th>\n",
       "      <td>20000</td>\n",
       "      <td>9000</td>\n",
       "      <td>4</td>\n",
       "      <td>0</td>\n",
       "      <td>220800</td>\n",
       "      <td>Under-Graduate</td>\n",
       "      <td>2</td>\n",
       "    </tr>\n",
       "  </tbody>\n",
       "</table>\n",
       "</div>"
      ],
      "text/plain": [
       "   Mthly_HH_Income  Mthly_HH_Expense  No_of_Fly_Members  Emi_or_Rent_Amt  \\\n",
       "0             5000              8000                  3             2000   \n",
       "1             6000              7000                  2             3000   \n",
       "2            10000              4500                  2                0   \n",
       "3            10000              2000                  1                0   \n",
       "4            12500             12000                  2             3000   \n",
       "5            14000              8000                  2                0   \n",
       "6            15000             16000                  3            35000   \n",
       "7            18000             20000                  5             8000   \n",
       "8            19000              9000                  2                0   \n",
       "9            20000              9000                  4                0   \n",
       "\n",
       "   Annual_HH_Income Highest_Qualified_Member  No_of_Earning_Members  \n",
       "0             64200           Under-Graduate                      1  \n",
       "1             79920               Illiterate                      1  \n",
       "2            112800           Under-Graduate                      1  \n",
       "3             97200               Illiterate                      1  \n",
       "4            147000                 Graduate                      1  \n",
       "5            196560                 Graduate                      1  \n",
       "6            167400            Post-Graduate                      1  \n",
       "7            216000                 Graduate                      1  \n",
       "8            218880           Under-Graduate                      1  \n",
       "9            220800           Under-Graduate                      2  "
      ]
     },
     "execution_count": 3,
     "metadata": {},
     "output_type": "execute_result"
    }
   ],
   "source": [
    "inc_exp.head(10)"
   ]
  },
  {
   "cell_type": "markdown",
   "metadata": {},
   "source": [
    "4.What is the Mean Expense of a Household?"
   ]
  },
  {
   "cell_type": "code",
   "execution_count": 4,
   "metadata": {},
   "outputs": [
    {
     "data": {
      "text/plain": [
       "18818.0"
      ]
     },
     "execution_count": 4,
     "metadata": {},
     "output_type": "execute_result"
    }
   ],
   "source": [
    "inc_exp.Mthly_HH_Expense.mean()"
   ]
  },
  {
   "cell_type": "markdown",
   "metadata": {},
   "source": [
    "5.What is the Median Household Expense?"
   ]
  },
  {
   "cell_type": "code",
   "execution_count": 5,
   "metadata": {},
   "outputs": [
    {
     "data": {
      "text/plain": [
       "15500.0"
      ]
     },
     "execution_count": 5,
     "metadata": {},
     "output_type": "execute_result"
    }
   ],
   "source": [
    "inc_exp.Mthly_HH_Expense.median()"
   ]
  },
  {
   "cell_type": "markdown",
   "metadata": {},
   "source": [
    " 6.What is the Monthly Expense for most of the Households?"
   ]
  },
  {
   "cell_type": "code",
   "execution_count": 10,
   "metadata": {},
   "outputs": [
    {
     "data": {
      "text/html": [
       "<div>\n",
       "<style scoped>\n",
       "    .dataframe tbody tr th:only-of-type {\n",
       "        vertical-align: middle;\n",
       "    }\n",
       "\n",
       "    .dataframe tbody tr th {\n",
       "        vertical-align: top;\n",
       "    }\n",
       "\n",
       "    .dataframe thead th {\n",
       "        text-align: right;\n",
       "    }\n",
       "</style>\n",
       "<table border=\"1\" class=\"dataframe\">\n",
       "  <thead>\n",
       "    <tr style=\"text-align: right;\">\n",
       "      <th>col_0</th>\n",
       "      <th>Mthly_HH_Expense</th>\n",
       "      <th>count</th>\n",
       "    </tr>\n",
       "  </thead>\n",
       "  <tbody>\n",
       "    <tr>\n",
       "      <th>18</th>\n",
       "      <td>25000</td>\n",
       "      <td>8</td>\n",
       "    </tr>\n",
       "  </tbody>\n",
       "</table>\n",
       "</div>"
      ],
      "text/plain": [
       "col_0  Mthly_HH_Expense  count\n",
       "18                25000      8"
      ]
     },
     "execution_count": 10,
     "metadata": {},
     "output_type": "execute_result"
    }
   ],
   "source": [
    "mth_exp_tmp = pd.crosstab(index=inc_exp[\"Mthly_HH_Expense\"], columns=\"count\")\n",
    "mth_exp_tmp.reset_index(inplace=True)\n",
    "mth_exp_tmp[mth_exp_tmp['count'] == inc_exp.Mthly_HH_Expense.value_counts().max()]"
   ]
  },
  {
   "cell_type": "markdown",
   "metadata": {},
   "source": [
    "7.Plot a barchart to count the Highest qualified member"
   ]
  },
  {
   "cell_type": "code",
   "execution_count": 11,
   "metadata": {},
   "outputs": [
    {
     "data": {
      "text/plain": [
       "<AxesSubplot:>"
      ]
     },
     "execution_count": 11,
     "metadata": {},
     "output_type": "execute_result"
    },
    {
     "data": {
      "image/png": "[encoded data removed]",
      "text/plain": [
       "<Figure size 432x288 with 1 Axes>"
      ]
     },
     "metadata": {
      "needs_background": "light"
     },
     "output_type": "display_data"
    }
   ],
   "source": [
    "inc_exp['Highest_Qualified_Member'].value_counts().plot(kind='bar')"
   ]
  },
  {
   "cell_type": "markdown",
   "metadata": {},
   "source": [
    "8.Calculate IQR(difference between 75% and 25% quartile) for monthly income"
   ]
  },
  {
   "cell_type": "code",
   "execution_count": 12,
   "metadata": {},
   "outputs": [
    {
     "data": {
      "text/plain": [
       "26825.0"
      ]
     },
     "execution_count": 12,
     "metadata": {},
     "output_type": "execute_result"
    }
   ],
   "source": [
    "IQR = inc_exp[\"Mthly_HH_Income\"].quantile(0.75) - inc_exp[\"Mthly_HH_Income\"].quantile(0.25)\n",
    "IQR"
   ]
  },
  {
   "cell_type": "markdown",
   "metadata": {},
   "source": [
    "9.Calculate Standard Deviation for first 4 columns."
   ]
  },
  {
   "cell_type": "code",
   "execution_count": 17,
   "metadata": {},
   "outputs": [
    {
     "data": {
      "text/html": [
       "<div>\n",
       "<style scoped>\n",
       "    .dataframe tbody tr th:only-of-type {\n",
       "        vertical-align: middle;\n",
       "    }\n",
       "\n",
       "    .dataframe tbody tr th {\n",
       "        vertical-align: top;\n",
       "    }\n",
       "\n",
       "    .dataframe thead th {\n",
       "        text-align: right;\n",
       "    }\n",
       "</style>\n",
       "<table border=\"1\" class=\"dataframe\">\n",
       "  <thead>\n",
       "    <tr style=\"text-align: right;\">\n",
       "      <th></th>\n",
       "      <th>Mthly_HH_Income</th>\n",
       "      <th>Mthly_HH_Expense</th>\n",
       "      <th>No_of_Fly_Members</th>\n",
       "      <th>Emi_or_Rent_Amt</th>\n",
       "      <th>Annual_HH_Income</th>\n",
       "    </tr>\n",
       "  </thead>\n",
       "  <tbody>\n",
       "    <tr>\n",
       "      <th>0</th>\n",
       "      <td>26097.908979</td>\n",
       "      <td>12090.216824</td>\n",
       "      <td>1.517382</td>\n",
       "      <td>6241.434948</td>\n",
       "      <td>320135.792123</td>\n",
       "    </tr>\n",
       "  </tbody>\n",
       "</table>\n",
       "</div>"
      ],
      "text/plain": [
       "   Mthly_HH_Income  Mthly_HH_Expense  No_of_Fly_Members  Emi_or_Rent_Amt  \\\n",
       "0     26097.908979      12090.216824           1.517382      6241.434948   \n",
       "\n",
       "   Annual_HH_Income  \n",
       "0     320135.792123  "
      ]
     },
     "execution_count": 17,
     "metadata": {},
     "output_type": "execute_result"
    }
   ],
   "source": [
    "pd.DataFrame(inc_exp.iloc[:,0:5].std().to_frame()).T"
   ]
  },
  {
   "cell_type": "markdown",
   "metadata": {},
   "source": [
    "10.Calculate Variance for first 3 columns."
   ]
  },
  {
   "cell_type": "code",
   "execution_count": 18,
   "metadata": {},
   "outputs": [
    {
     "data": {
      "text/html": [
       "<div>\n",
       "<style scoped>\n",
       "    .dataframe tbody tr th:only-of-type {\n",
       "        vertical-align: middle;\n",
       "    }\n",
       "\n",
       "    .dataframe tbody tr th {\n",
       "        vertical-align: top;\n",
       "    }\n",
       "\n",
       "    .dataframe thead th {\n",
       "        text-align: right;\n",
       "    }\n",
       "</style>\n",
       "<table border=\"1\" class=\"dataframe\">\n",
       "  <thead>\n",
       "    <tr style=\"text-align: right;\">\n",
       "      <th></th>\n",
       "      <th>Mthly_HH_Income</th>\n",
       "      <th>Mthly_HH_Expense</th>\n",
       "      <th>No_of_Fly_Members</th>\n",
       "      <th>Emi_or_Rent_Amt</th>\n",
       "    </tr>\n",
       "  </thead>\n",
       "  <tbody>\n",
       "    <tr>\n",
       "      <th>0</th>\n",
       "      <td>6.811009e+08</td>\n",
       "      <td>1.461733e+08</td>\n",
       "      <td>2.302449</td>\n",
       "      <td>3.895551e+07</td>\n",
       "    </tr>\n",
       "  </tbody>\n",
       "</table>\n",
       "</div>"
      ],
      "text/plain": [
       "   Mthly_HH_Income  Mthly_HH_Expense  No_of_Fly_Members  Emi_or_Rent_Amt\n",
       "0     6.811009e+08      1.461733e+08           2.302449     3.895551e+07"
      ]
     },
     "execution_count": 18,
     "metadata": {},
     "output_type": "execute_result"
    }
   ],
   "source": [
    "pd.DataFrame(inc_exp.iloc[:,0:4].var().to_frame()).T\n"
   ]
  },
  {
   "cell_type": "markdown",
   "metadata": {},
   "source": [
    "11.Calculate the count of Highest qualified member."
   ]
  },
  {
   "cell_type": "code",
   "execution_count": 19,
   "metadata": {},
   "outputs": [
    {
     "data": {
      "text/html": [
       "<div>\n",
       "<style scoped>\n",
       "    .dataframe tbody tr th:only-of-type {\n",
       "        vertical-align: middle;\n",
       "    }\n",
       "\n",
       "    .dataframe tbody tr th {\n",
       "        vertical-align: top;\n",
       "    }\n",
       "\n",
       "    .dataframe thead th {\n",
       "        text-align: right;\n",
       "    }\n",
       "</style>\n",
       "<table border=\"1\" class=\"dataframe\">\n",
       "  <thead>\n",
       "    <tr style=\"text-align: right;\">\n",
       "      <th></th>\n",
       "      <th>Graduate</th>\n",
       "      <th>Under-Graduate</th>\n",
       "      <th>Professional</th>\n",
       "      <th>Post-Graduate</th>\n",
       "      <th>Illiterate</th>\n",
       "    </tr>\n",
       "  </thead>\n",
       "  <tbody>\n",
       "    <tr>\n",
       "      <th>Highest_Qualified_Member</th>\n",
       "      <td>19</td>\n",
       "      <td>10</td>\n",
       "      <td>10</td>\n",
       "      <td>6</td>\n",
       "      <td>5</td>\n",
       "    </tr>\n",
       "  </tbody>\n",
       "</table>\n",
       "</div>"
      ],
      "text/plain": [
       "                          Graduate  Under-Graduate  Professional  \\\n",
       "Highest_Qualified_Member        19              10            10   \n",
       "\n",
       "                          Post-Graduate  Illiterate  \n",
       "Highest_Qualified_Member              6           5  "
      ]
     },
     "execution_count": 19,
     "metadata": {},
     "output_type": "execute_result"
    }
   ],
   "source": [
    "pd.DataFrame(inc_exp['Highest_Qualified_Member'].value_counts().to_frame()).T"
   ]
  },
  {
   "cell_type": "markdown",
   "metadata": {},
   "source": [
    "12.Plot the Histogram to count the No_of_Earning_Members"
   ]
  },
  {
   "cell_type": "code",
   "execution_count": 39,
   "metadata": {},
   "outputs": [
    {
     "data": {
      "text/plain": [
       "<matplotlib.axes._subplots.AxesSubplot at 0x2950e3962e8>"
      ]
     },
     "execution_count": 39,
     "metadata": {},
     "output_type": "execute_result"
    },
    {
     "data": {
      "image/png": "[encoded data removed]",
      "text/plain": [
       "<Figure size 432x288 with 1 Axes>"
      ]
     },
     "metadata": {},
     "output_type": "display_data"
    }
   ],
   "source": [
    "inc_exp['No_of_Earning_Members'].value_counts().plot(kind='bar')"
   ]
  },
  {
   "cell_type": "markdown",
   "metadata": {},
   "source": [
    "13.Suppose you have option to invest in Stock A or Stock B. The stocks have different expected returns and standard \n",
    "deviations. The expected return of Stock A is 15% and Stock B is 10%. Standard Deviation of the returns of these \n",
    "stocks is 10% and 5% respectively.\n",
    "\n",
    "Which is better investment?"
   ]
  },
  {
   "cell_type": "code",
   "execution_count": null,
   "metadata": {},
   "outputs": [],
   "source": []
  }
 ],
 "metadata": {
  "kernelspec": {
   "display_name": "Python 3",
   "language": "python",
   "name": "python3"
  },
  "language_info": {
   "codemirror_mode": {
    "name": "ipython",
    "version": 3
   },
   "file_extension": ".py",
   "mimetype": "text/x-python",
   "name": "python",
   "nbconvert_exporter": "python",
   "pygments_lexer": "ipython3",
   "version": "3.8.5"
  }
 },
 "nbformat": 4,
 "nbformat_minor": 2
}
