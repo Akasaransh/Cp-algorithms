{
 "cells": [
  {
   "cell_type": "markdown",
   "metadata": {},
   "source": [
    "# Question 1(A)"
   ]
  },
  {
   "cell_type": "code",
   "execution_count": 22,
   "metadata": {},
   "outputs": [
    {
     "name": "stdout",
     "output_type": "stream",
     "text": [
      "Joint probability of the people who planned to purchase and actually placed an order. is 0.2000\n"
     ]
    }
   ],
   "source": [
    "# P1 is the number of people who planned and actually placed an order\n",
    "P1 = 400\n",
    "P2  = 2000\n",
    "P3 = round(P1 / P2,4) \n",
    "print('Joint probability of the people who planned to purchase and actually placed an order. is %1.4f' % P3)"
   ]
  },
  {
   "cell_type": "markdown",
   "metadata": {},
   "source": [
    "# Question 1(B)"
   ]
  },
  {
   "cell_type": "code",
   "execution_count": 23,
   "metadata": {},
   "outputs": [
    {
     "name": "stdout",
     "output_type": "stream",
     "text": [
      "P(Actually placed an order | Planned to purchase) is 0.8000\n"
     ]
    }
   ],
   "source": [
    "# P1 = P(Actually placed an order | Planned to purchase)\n",
    "# P2 = Planned to purchase and actually placed an order\n",
    "# P3 = Planned to purchase\n",
    "P1   = (400 / 2000 )/ (500 / 2000)\n",
    "\n",
    "print('P(Actually placed an order | Planned to purchase) is %1.4f' % P1)  "
   ]
  },
  {
   "cell_type": "markdown",
   "metadata": {},
   "source": [
    "# Question 2"
   ]
  },
  {
   "cell_type": "code",
   "execution_count": 24,
   "metadata": {},
   "outputs": [],
   "source": [
    "import numpy             as np\n",
    "import pandas            as pd\n",
    "import scipy.stats       as stats\n",
    "import matplotlib.pyplot as plt"
   ]
  },
  {
   "cell_type": "code",
   "execution_count": 25,
   "metadata": {},
   "outputs": [
    {
     "name": "stdout",
     "output_type": "stream",
     "text": [
      "[5.98736939e-01 3.15124705e-01 7.46347985e-02 1.04750594e-02\n",
      " 9.64808106e-04 6.09352488e-05 2.67259863e-06 8.03789063e-08\n",
      " 1.58642578e-09 1.85546875e-11 9.76562500e-14]\n"
     ]
    }
   ],
   "source": [
    "p   =  0.05 # failure rate for products that the company manufactures is 5%\n",
    "n   =  10 # sample size\n",
    "k   =  np.arange(0,11) # An array of quantiles\n",
    "binomial = stats.binom.pmf(k,n,p)\n",
    "print(binomial)"
   ]
  },
  {
   "cell_type": "markdown",
   "metadata": {},
   "source": [
    "# 2(A)"
   ]
  },
  {
   "cell_type": "code",
   "execution_count": 26,
   "metadata": {},
   "outputs": [
    {
     "name": "stdout",
     "output_type": "stream",
     "text": [
      "None of the items are defective? is 0.5987\n"
     ]
    }
   ],
   "source": [
    "print('None of the items are defective? is %1.4f' %binomial[0])"
   ]
  },
  {
   "cell_type": "markdown",
   "metadata": {},
   "source": [
    "# 2(B)"
   ]
  },
  {
   "cell_type": "code",
   "execution_count": 28,
   "metadata": {},
   "outputs": [
    {
     "name": "stdout",
     "output_type": "stream",
     "text": [
      " Exactly one of the items is defective? is 0.3151\n"
     ]
    }
   ],
   "source": [
    "print(' Exactly one of the items is defective? is %1.4f' %binomial[1])"
   ]
  },
  {
   "cell_type": "markdown",
   "metadata": {},
   "source": [
    "# 2(C)"
   ]
  },
  {
   "cell_type": "code",
   "execution_count": 7,
   "metadata": {},
   "outputs": [
    {
     "name": "stdout",
     "output_type": "stream",
     "text": [
      "[0.59873694 0.91386164 0.98849644 0.9989715  0.99993631 0.99999725\n",
      " 0.99999992 1.         1.         1.         1.        ]\n"
     ]
    }
   ],
   "source": [
    "cumbinomial = stats.binom.cdf(k,n,p)\n",
    "print(cumbinomial)"
   ]
  },
  {
   "cell_type": "code",
   "execution_count": 29,
   "metadata": {},
   "outputs": [
    {
     "name": "stdout",
     "output_type": "stream",
     "text": [
      "Two or fewer of the items are defective? is 0.9885\n"
     ]
    }
   ],
   "source": [
    "print('Two or fewer of the items are defective? is %1.4f' %cumbinomial[2])"
   ]
  },
  {
   "cell_type": "markdown",
   "metadata": {},
   "source": [
    "# 2(D)"
   ]
  },
  {
   "cell_type": "code",
   "execution_count": 30,
   "metadata": {},
   "outputs": [
    {
     "name": "stdout",
     "output_type": "stream",
     "text": [
      "Three or more of the items are defective is 0.0115\n"
     ]
    }
   ],
   "source": [
    "P = 1- cumbinomial[2]\n",
    "print('Three or more of the items are defective is %1.4f' % P)\n"
   ]
  },
  {
   "cell_type": "markdown",
   "metadata": {},
   "source": [
    "# Question 3"
   ]
  },
  {
   "cell_type": "code",
   "execution_count": 10,
   "metadata": {},
   "outputs": [
    {
     "name": "stdout",
     "output_type": "stream",
     "text": [
      "[0.04978707 0.19914827 0.42319008 0.64723189 0.81526324 0.91608206\n",
      " 0.96649146 0.9880955  0.99619701 0.99889751 0.99970766 0.99992861\n",
      " 0.99998385 0.9999966  0.99999933 0.99999988]\n"
     ]
    }
   ],
   "source": [
    "rate =  3 # which is the mean\n",
    "n    =  np.arange(0,16)\n",
    "cumpoisson = stats.poisson.cdf(n,rate)\n",
    "print(cumpoisson)"
   ]
  },
  {
   "cell_type": "markdown",
   "metadata": {},
   "source": [
    "# 3(A)"
   ]
  },
  {
   "cell_type": "code",
   "execution_count": 11,
   "metadata": {},
   "outputs": [
    {
     "name": "stdout",
     "output_type": "stream",
     "text": [
      " a) Probability that the salesman sales some cars is 0.9502\n"
     ]
    }
   ],
   "source": [
    "# P = probability that the salesman sales some cars\n",
    "P   = 1 - cumpoisson[0]\n",
    "print(' a) Probability that the salesman sales some cars is %1.4f' % P)"
   ]
  },
  {
   "cell_type": "markdown",
   "metadata": {},
   "source": [
    "# 3(B)"
   ]
  },
  {
   "cell_type": "code",
   "execution_count": 12,
   "metadata": {},
   "outputs": [
    {
     "name": "stdout",
     "output_type": "stream",
     "text": [
      " b) Probability that the salesman sells between 2 and 5 cars is 0.3921\n"
     ]
    }
   ],
   "source": [
    "# Let P1 be the probability that the salesman sells more than 4 cars\n",
    "P1 = cumpoisson[4]\n",
    "# Let P2 be the probability that the salesman sells more than 1 car\n",
    "P2 = cumpoisson[2] \n",
    "P = P1 - P2 # Prob. that the salesman will sell between 2 and 5 cars\n",
    "print(' b) Probability that the salesman sells between 2 and 5 cars is %1.4f' % P)"
   ]
  },
  {
   "cell_type": "markdown",
   "metadata": {},
   "source": [
    "# 3(C)"
   ]
  },
  {
   "cell_type": "code",
   "execution_count": 13,
   "metadata": {},
   "outputs": [
    {
     "data": {
      "image/png": "[encoded data removed]",
      "text/plain": [
       "<Figure size 432x288 with 1 Axes>"
      ]
     },
     "metadata": {
      "needs_background": "light"
     },
     "output_type": "display_data"
    }
   ],
   "source": [
    "poisson = stats.poisson.pmf(n,rate)\n",
    "plt.plot(n,poisson, 'o-')\n",
    "plt.title('Poisson')\n",
    "plt.xlabel('Number of cars sold per week')\n",
    "plt.ylabel('Cumulative Prob of cars sold per week')\n",
    "plt.show()"
   ]
  },
  {
   "cell_type": "markdown",
   "metadata": {},
   "source": [
    "# Question 4 "
   ]
  },
  {
   "cell_type": "markdown",
   "metadata": {},
   "source": [
    "Because there are three orders and the probability of a correct order is 0.868.\n",
    "    "
   ]
  },
  {
   "cell_type": "markdown",
   "metadata": {},
   "source": [
    "# 4(A)"
   ]
  },
  {
   "cell_type": "code",
   "execution_count": 14,
   "metadata": {},
   "outputs": [
    {
     "name": "stdout",
     "output_type": "stream",
     "text": [
      "The probability that all the three orders are recognized correctly is 0.6540\n"
     ]
    }
   ],
   "source": [
    "#Using Binomial distribution equation,\n",
    "p=0.868\n",
    "n=3\n",
    "k=np.arange(3,4)\n",
    "binomial = stats.binom.pmf(k,n,p)\n",
    "print('The probability that all the three orders are recognized correctly is %1.4f' % binomial)"
   ]
  },
  {
   "cell_type": "markdown",
   "metadata": {},
   "source": [
    "# 4(B)"
   ]
  },
  {
   "cell_type": "code",
   "execution_count": 15,
   "metadata": {},
   "outputs": [
    {
     "name": "stdout",
     "output_type": "stream",
     "text": [
      "The probability that none of the orders are recognized correctly is  0.0023\n"
     ]
    }
   ],
   "source": [
    "#Likewise, calculate X= 0\n",
    "#X=0\n",
    "p=0.868\n",
    "n=3\n",
    "k=np.arange(0,1)\n",
    "X_0 = stats.binom.pmf(k,n,p)\n",
    "print('The probability that none of the orders are recognized correctly is  %1.4f' % X_0)\n",
    "\n"
   ]
  },
  {
   "cell_type": "markdown",
   "metadata": {},
   "source": [
    "# 4(C)"
   ]
  },
  {
   "cell_type": "code",
   "execution_count": 16,
   "metadata": {},
   "outputs": [
    {
     "name": "stdout",
     "output_type": "stream",
     "text": [
      "The probability that atleat two of the three are recognized correctly is 0.9523\n"
     ]
    }
   ],
   "source": [
    "p=0.868\n",
    "n=3\n",
    "k=np.arange(2,4)\n",
    "X_G2 = sum(stats.binom.pmf(k,n,p))\n",
    "\n",
    "print('The probability that atleat two of the three are recognized correctly is %1.4f' % X_G2)"
   ]
  },
  {
   "cell_type": "markdown",
   "metadata": {},
   "source": [
    "# 5(A)\n"
   ]
  },
  {
   "cell_type": "code",
   "execution_count": 17,
   "metadata": {},
   "outputs": [
    {
     "name": "stdout",
     "output_type": "stream",
     "text": [
      "1.67\n",
      " The percentage of students who score more than 80 is 0.0475\n"
     ]
    }
   ],
   "source": [
    "# marks obtained by them have a mean of 60 and a standard deviation of 12\n",
    "µ = 60 #mean\n",
    "σ = 12 #standard deviation\n",
    "\n",
    "x=80\n",
    "\n",
    "z = round((x - µ)/σ,2) \n",
    "print(z)\n",
    "ans = 1-stats.norm.cdf(z)\n",
    "print(' The percentage of students who score more than 80 is %1.4f' % ans)\n"
   ]
  },
  {
   "cell_type": "markdown",
   "metadata": {},
   "source": [
    "# 5(B)"
   ]
  },
  {
   "cell_type": "code",
   "execution_count": 18,
   "metadata": {},
   "outputs": [
    {
     "name": "stdout",
     "output_type": "stream",
     "text": [
      "-0.83\n",
      " The percentage of students who score less than 50 is 0.2033\n"
     ]
    }
   ],
   "source": [
    "# marks obtained by them have a mean of 60 and a standard deviation of 12\n",
    "µ = 60 #mean\n",
    "σ = 12 #standard deviation\n",
    "\n",
    "x=50\n",
    "z = round((x - µ)/σ,2) \n",
    "print(z)\n",
    "ans = stats.norm.cdf(z)\n",
    "print(' The percentage of students who score less than 50 is %1.4f' % ans)"
   ]
  },
  {
   "cell_type": "markdown",
   "metadata": {},
   "source": [
    "# 5(C)"
   ]
  },
  {
   "cell_type": "markdown",
   "metadata": {},
   "source": [
    "Z = (x-60)/12. \n",
    "\n",
    "Here look at the normal tabel in inverse manner. That is the value of Z, the area between 0 and z = 0.40. this is to be seen from the table. The Z value that will make the area = 0.40 is = 1.28. But z= (x - 60)/12. Hence (x-60)/12 = 1.28 Simplifying, x= 75.36 is the distinction mark that will be scored by 10% of the students."
   ]
  },
  {
   "cell_type": "markdown",
   "metadata": {},
   "source": [
    "# Question 6"
   ]
  },
  {
   "cell_type": "code",
   "execution_count": null,
   "metadata": {},
   "outputs": [],
   "source": []
  }
 ],
 "metadata": {
  "kernelspec": {
   "display_name": "Python 3",
   "language": "python",
   "name": "python3"
  },
  "language_info": {
   "codemirror_mode": {
    "name": "ipython",
    "version": 3
   },
   "file_extension": ".py",
   "mimetype": "text/x-python",
   "name": "python",
   "nbconvert_exporter": "python",
   "pygments_lexer": "ipython3",
   "version": "3.8.5"
  }
 },
 "nbformat": 4,
 "nbformat_minor": 4
}
